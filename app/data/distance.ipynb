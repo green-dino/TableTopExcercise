{
 "cells": [
  {
   "cell_type": "code",
   "execution_count": 3,
   "metadata": {},
   "outputs": [
    {
     "name": "stdout",
     "output_type": "stream",
     "text": [
      "  Control Identifier              Control (or Control Enhancement) Name  \\\n",
      "0               AC-1                              Policy and Procedures   \n",
      "1               AC-2                                 Account Management   \n",
      "2            AC-2(1)  Account Management | Automated System Account ...   \n",
      "3            AC-2(2)  Account Management | Automated Temporary and E...   \n",
      "4            AC-2(3)              Account Management | Disable Accounts   \n",
      "\n",
      "                                        Control Text  \\\n",
      "0  a. Develop, document, and disseminate to [Assi...   \n",
      "1  a. Define and document the types of accounts a...   \n",
      "2  Support the management of system accounts usin...   \n",
      "3  Automatically [Selection: remove; disable] tem...   \n",
      "4  Disable accounts within [Assignment: organizat...   \n",
      "\n",
      "                                          Discussion  \\\n",
      "0  Access control policy and procedures address t...   \n",
      "1  Examples of system account types include indiv...   \n",
      "2  Automated system account management includes u...   \n",
      "3  Management of temporary and emergency accounts...   \n",
      "4  Disabling expired, inactive, or otherwise anom...   \n",
      "\n",
      "                                    Related Controls  Unnamed: 5  \n",
      "0                   IA-1, PM-9, PM-24, PS-8, SI-12 .         NaN  \n",
      "1  AC-3, AC-5, AC-6, AC-17, AC-18, AC-20, AC-24, ...         NaN  \n",
      "2                                              None.         NaN  \n",
      "3                                              None.         NaN  \n",
      "4                                              None.         NaN  \n",
      "\n",
      "DataFrame shape:\n",
      "(1189, 6)\n"
     ]
    }
   ],
   "source": [
    "import pandas as pd\n",
    "df = pd.read_csv('sp800-53r5-control-catalog.csv')\n",
    "\n",
    "print(df.head())\n",
    "\n",
    "print(\"\\nDataFrame shape:\")\n",
    "print(df.shape)\n"
   ]
  },
  {
   "cell_type": "code",
   "execution_count": 4,
   "metadata": {},
   "outputs": [
    {
     "data": {
      "application/vnd.jupyter.widget-view+json": {
       "model_id": "3b35f9d3b5b74c50b326f0bf8cc39970",
       "version_major": 2,
       "version_minor": 0
      },
      "text/plain": [
       "interactive(children=(Dropdown(description='Select a Node:', options=('AC-1', 'IA-1', 'PM-9', 'PM-24', 'PS-8',…"
      ]
     },
     "metadata": {},
     "output_type": "display_data"
    }
   ],
   "source": [
    "import networkx as nx\n",
    "import matplotlib.pyplot as plt\n",
    "import ipywidgets as widgets\n",
    "from IPython.display import display\n",
    "\n",
    "# Create an empty graph\n",
    "G = nx.Graph()\n",
    "\n",
    "# Process the \"Control Identifier\" and \"Related Controls\" columns to add edges to the graph\n",
    "for index, row in df.iterrows():\n",
    "    control_identifier = row['Control Identifier']\n",
    "    related_controls = row['Related Controls']\n",
    "    \n",
    "    if not pd.isna(related_controls):\n",
    "        related_controls = related_controls.split(', ')\n",
    "\n",
    "        # Add nodes for the control and related controls\n",
    "        G.add_node(control_identifier)\n",
    "        for related_control in related_controls:\n",
    "            G.add_node(related_control)\n",
    "            G.add_edge(control_identifier, related_control)\n",
    "\n",
    "# Define the layout for the graph\n",
    "pos = nx.spring_layout(G, seed=42)\n",
    "\n",
    "# Function to highlight nodes within a certain distance\n",
    "def highlight_nodes_within_distance(node_name, distance):\n",
    "    subgraph = nx.ego_graph(G, node_name, radius=distance)\n",
    "    \n",
    "    plt.figure(figsize=(10, 6))\n",
    "    nx.draw(G, pos, with_labels=True, node_size=200, node_color='skyblue', font_size=8, font_color='black')\n",
    "    nx.draw(subgraph, pos, node_color='red', node_size=300)\n",
    "    plt.title(f'Nodes within a {distance}-node radius of {node_name}')\n",
    "    plt.axis('off')\n",
    "    plt.show()\n",
    "\n",
    "# Create interactive widgets\n",
    "node_selector = widgets.Dropdown(options=list(G.nodes()), description='Select a Node:')\n",
    "distance_slider = widgets.IntSlider(value=1, min=1, max=10, step=1, description='Distance:')\n",
    "interactive_plot = widgets.interactive(highlight_nodes_within_distance, node_name=node_selector, distance=distance_slider)\n",
    "\n",
    "# Display the widgets\n",
    "display(interactive_plot)\n"
   ]
  },
  {
   "cell_type": "code",
   "execution_count": null,
   "metadata": {},
   "outputs": [],
   "source": []
  }
 ],
 "metadata": {
  "kernelspec": {
   "display_name": "Python 3 (ipykernel)",
   "language": "python",
   "name": "python3"
  },
  "language_info": {
   "codemirror_mode": {
    "name": "ipython",
    "version": 3
   },
   "file_extension": ".py",
   "mimetype": "text/x-python",
   "name": "python",
   "nbconvert_exporter": "python",
   "pygments_lexer": "ipython3",
   "version": "3.11.5"
  }
 },
 "nbformat": 4,
 "nbformat_minor": 4
}
