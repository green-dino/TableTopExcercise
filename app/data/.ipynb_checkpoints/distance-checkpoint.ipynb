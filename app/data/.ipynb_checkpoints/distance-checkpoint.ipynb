{
 "cells": [
  {
   "cell_type": "code",
   "execution_count": null,
   "metadata": {},
   "outputs": [],
   "source": [
    "import pandas as pd\n",
    "df = pd.read_csv('sp800-53r5-control-catalog.csv')\n",
    "\n",
    "print(df.head())\n",
    "\n",
    "print(\"\\nDataFrame shape:\")\n",
    "print(df.shape)\n"
   ]
  }
 ],
 "metadata": {
  "language_info": {
   "name": "python"
  },
  "orig_nbformat": 4
 },
 "nbformat": 4,
 "nbformat_minor": 2
}
