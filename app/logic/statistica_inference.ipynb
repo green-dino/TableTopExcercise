{
 "cells": [
  {
   "cell_type": "code",
   "execution_count": null,
   "metadata": {
    "vscode": {
     "languageId": "plaintext"
    }
   },
   "outputs": [],
   "source": [
    "import numpy as np\n",
    "import matplotlib.pyplot as plt\n",
    "\n",
    "def log_normal_pdf(x, mu, sigma):\n",
    "    \"\"\"\n",
    "    Compute the probability density function (PDF) of the log-normal distribution.\n",
    "    \n",
    "    Parameters:\n",
    "    - x: Values for which to compute the PDF.\n",
    "    - mu: Sample mean.\n",
    "    - sigma: Standard deviation.\n",
    "\n",
    "    Returns:\n",
    "    - PDF values for the given x.\n",
    "    \"\"\"\n",
    "    coefficient = 1 / (x * sigma * np.sqrt(2 * np.pi))\n",
    "    exponent = -((np.log(x) - mu) ** 2) / (2 * sigma**2)\n",
    "    pdf = coefficient * np.exp(exponent)\n",
    "    return pdf\n",
    "\n",
    "# Parameters for the log-normal distribution\n",
    "mu = 0.0  # Sample mean\n",
    "sigma = 1.0  # Standard deviation\n",
    "\n",
    "# Values for which you want to compute the PDF\n",
    "x = np.linspace(0.01, 5, 100)\n",
    "\n",
    "# Calculate the PDF\n",
    "pdf = log_normal_pdf(x, mu, sigma)\n",
    "\n",
    "# Plot the PDF\n",
    "plt.plot(x, pdf, label='Log-normal PDF')\n",
    "plt.xlabel('x')\n",
    "plt.ylabel('PDF')\n",
    "plt.title('Log-normal Distribution PDF')\n",
    "plt.legend()\n",
    "plt.grid()\n",
    "plt.show()\n",
    "\n",
    "# Display the parameters\n",
    "print(\"Log-normal Distribution Parameters:\")\n",
    "print(f\"Mu (Sample Mean): {mu}\")\n",
    "print(f\"Sigma (Standard Deviation): {sigma}\")\n"
   ]
  },
  {
   "cell_type": "markdown",
   "metadata": {},
   "source": [
    "Log-normal Distribution \n"
   ]
  },
  {
   "cell_type": "markdown",
   "metadata": {},
   "source": [
    "Poisson Distribution "
   ]
  },
  {
   "cell_type": "code",
   "execution_count": null,
   "metadata": {
    "vscode": {
     "languageId": "plaintext"
    }
   },
   "outputs": [],
   "source": [
    "import numpy as np\n",
    "import matplotlib.pyplot as plt\n",
    "import statsmodels.api as sm\n",
    "\n",
    "# Generate Poisson distributed data\n",
    "lambda_param = 5\n",
    "data = np.random.poisson(lambda_param, 1000)\n",
    "\n",
    "# Calculate PMF using statsmodels\n",
    "unique, counts = np.unique(data, return_counts=True)\n",
    "pmf = counts / len(data)\n",
    "\n",
    "# Plotting\n",
    "plt.bar(unique, pmf)\n",
    "plt.title('Poisson Distribution PMF')\n",
    "plt.xlabel('X')\n",
    "plt.ylabel('Probability')\n",
    "plt.show()\n"
   ]
  }
 ],
 "metadata": {
  "language_info": {
   "name": "python"
  },
  "orig_nbformat": 4
 },
 "nbformat": 4,
 "nbformat_minor": 2
}
