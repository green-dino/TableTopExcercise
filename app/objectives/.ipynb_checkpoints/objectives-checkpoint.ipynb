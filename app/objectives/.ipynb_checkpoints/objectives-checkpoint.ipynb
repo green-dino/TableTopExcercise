{
 "cells": [
  {
   "cell_type": "code",
   "execution_count": null,
   "metadata": {},
   "outputs": [],
   "source": []
  },
  {
   "cell_type": "markdown",
   "metadata": {},
   "source": [
    "This notebook lets a team discuss security focused concepts "
   ]
  },
  {
   "cell_type": "code",
   "execution_count": null,
   "metadata": {},
   "outputs": [],
   "source": [
    "import pandas as pd\n",
    "\n",
    "population_data = {\n",
    "    'Criteria': ['Population'],\n",
    "    'Terms': ['Threat Modeling'],\n",
    "    'Synonyms': ['Threat Model - Threat Intelligence - Threat Trees - Threat Analysis - Attack Simulations']\n",
    "}\n",
    "\n",
    "pop_df = pd.DataFrame(population_data)\n",
    "print(pop_df)\n",
    "\n",
    "\n",
    "intervention_data = {\n",
    "    'Criteria': ['Intervention'],\n",
    "    'Terms': ['Risk Management'],\n",
    "    'Synonyms': ['Security Risk Assessment - Secure Configuration – Requirements - Requirements Engineering - Security Requirements Elicitation - Anti- Requirements - Secure Software Engineering - Secure Software - Security Testing - Security Risk – Measurement - Security and Privacy Controls']\n",
    "}\n",
    "\n",
    "intervene_df = pd.DataFrame(intervention_data)\n",
    "print(intervene_df)\n",
    "\n",
    "\n",
    "context_data = {\n",
    "    'Criteria': ['Context'],\n",
    "    'Terms': ['Cyber Security'],\n",
    "    'Synonyms': ['Security - Computer Security - Information Security – Vulnerability – Data Security – Cloud-Security – Security Architecture – Cyber-Attacks – Attack – Adversary – Data Protection by Design – Privacy by Design – Privacy Engineering – System Analysis – Design – Software Design – Solution Design – System Model – Software Development – Secure Development Life- Cycle (SDLC)']\n",
    "}\n",
    "\n",
    "context_df = pd.DataFrame(context_data)\n",
    "print(context_df)\n"
   ]
  }
 ],
 "metadata": {
  "language_info": {
   "name": "python"
  },
  "orig_nbformat": 4
 },
 "nbformat": 4,
 "nbformat_minor": 2
}
